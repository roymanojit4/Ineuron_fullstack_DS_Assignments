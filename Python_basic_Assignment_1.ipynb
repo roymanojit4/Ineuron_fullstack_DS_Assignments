{
  "nbformat": 4,
  "nbformat_minor": 0,
  "metadata": {
    "colab": {
      "name": "Python basic Assignment 1.ipynb",
      "provenance": []
    },
    "kernelspec": {
      "name": "python3",
      "display_name": "Python 3"
    },
    "language_info": {
      "name": "python"
    }
  },
  "cells": [
    {
      "cell_type": "markdown",
      "metadata": {
        "id": "Nrkz4bEPDHIJ"
      },
      "source": [
        "1. In the below elements which of them are values or an expression? eg:- values can be integer or string and expressions will be mathematical operators.\n",
        "* \n",
        "'hello'\n",
        "-87.8\n",
        "- \n",
        "/ \n",
        "\n",
        "6 \n",
        "\n",
        "Answer:- \n",
        "\n",
        "Values - hello , -87.8 , 6\n",
        "expression - * , / , - "
      ]
    },
    {
      "cell_type": "code",
      "metadata": {
        "id": "dwRaeluWD41o"
      },
      "source": [
        "2. What is the difference between string and variable?\n",
        "\n",
        "Answer :- A Variable is a store of information, and a String is a type of information you would store in a Variable. A String is usually words, enclosed with \"\" Eg String x =\"Welcome to SoloLearn\" X is the Variable, and we declared it as a String, use the single = to assign the text to it."
      ],
      "execution_count": null,
      "outputs": []
    },
    {
      "cell_type": "markdown",
      "metadata": {
        "id": "n5MphP6sGy99"
      },
      "source": [
        "3. Describe three different data types\n",
        "\n",
        "Answer:- \n",
        "\n",
        "Integers.\n",
        "Floating-Point Numbers.\n",
        "Complex Numbers.\n",
        "Strings. Escape Sequences in Strings. Raw Strings. Triple-Quoted Strings.\n",
        "Boolean Type, Boolean Context, and “Truthiness”\n",
        "Built-In Functions. Math. Type Conversion. Iterables and Iterators. Composite Data Type. Classes, Attributes, and Inheritance. Input/Output."
      ]
    },
    {
      "cell_type": "markdown",
      "metadata": {
        "id": "6Zg-ZO19HQQ3"
      },
      "source": [
        "4. What is an expression made up of? What do all expressions do?\n",
        "\n",
        "**Answer**\n",
        "\n",
        "An expression is a construct made up of variables, operators, and method invocations, which are constructed according to the syntax of the language, that evaluates to a single value. ... As you can see from the other expressions, an expression can return other types of values as well, such as boolean or String ."
      ]
    },
    {
      "cell_type": "markdown",
      "metadata": {
        "id": "7NwydAMVH7qB"
      },
      "source": [
        "5. This assignment statements, like spam = 10. What is the difference between an expression and a statement?\n",
        "\n",
        "**Answer**\n",
        "\n",
        "An expression evaluates to a value. A statement does something. Statements represent an action or command e.g print statements, assignment statements. Expression is a combination of variables, operations and values that yields a result value"
      ]
    },
    {
      "cell_type": "markdown",
      "metadata": {
        "id": "f-k4qYxsISWD"
      },
      "source": [
        "6. After running the following code, what does the variable bacon contain?\n",
        "bacon = 22\n",
        "bacon + 1\n",
        "\n",
        "\n",
        "**Answer**\n",
        "\n",
        "33"
      ]
    },
    {
      "cell_type": "markdown",
      "metadata": {
        "id": "v5AptxZQIyxn"
      },
      "source": [
        "7. What should the values of the following two terms be?\n",
        "'spam' + 'spamspam'\n",
        "'spam' * 3\n",
        "\n",
        "**Answer**\n",
        "\n",
        "spamspamspam\n",
        "\n",
        "spamspamspam"
      ]
    },
    {
      "cell_type": "markdown",
      "metadata": {
        "id": "9Z4AcmZOO8MO"
      },
      "source": [
        "8. Why is eggs a valid variable name while 100 is invalid?\n",
        "\n",
        "**Answer**\n",
        "\n",
        "Numbers can'be assigned as variable name hence 100 is a invalid variable name whereas eggs is valid"
      ]
    },
    {
      "cell_type": "markdown",
      "metadata": {
        "id": "fMM75nbnR1SN"
      },
      "source": [
        "9. What three functions can be used to get the integer, floating-point number, or string version of a value?\n",
        "\n",
        "**Answer**\n",
        "\n",
        "1. int , 2. float, 3. str"
      ]
    },
    {
      "cell_type": "markdown",
      "metadata": {
        "id": "RgDAqyAKSLDX"
      },
      "source": [
        "10. Why does this expression cause an error? How can you fix it?\n",
        "'I have eaten ' + 99 + ' burritos.'\n",
        "\n",
        "**Answer**\n",
        "\n",
        "'I have eaten 99 burritos.'"
      ]
    }
  ]
}