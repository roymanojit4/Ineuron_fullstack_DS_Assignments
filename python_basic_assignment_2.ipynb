{
  "nbformat": 4,
  "nbformat_minor": 0,
  "metadata": {
    "colab": {
      "name": "python_basic_assignment_2.ipynb",
      "provenance": [],
      "collapsed_sections": []
    },
    "kernelspec": {
      "name": "python3",
      "display_name": "Python 3"
    },
    "language_info": {
      "name": "python"
    }
  },
  "cells": [
    {
      "cell_type": "code",
      "execution_count": 1,
      "metadata": {
        "id": "TVwOlU0-JBOL"
      },
      "outputs": [],
      "source": [
        "## 1.What are the two values of the Boolean data type? How do you write them?4\n",
        "\n",
        "# Ans:- True and False are the two boolean values"
      ]
    },
    {
      "cell_type": "code",
      "source": [
        "## 2. What are the three different types of Boolean operators?\n",
        "\n",
        "# Ans:- == , != & <="
      ],
      "metadata": {
        "id": "Fg4h7AizKTMB"
      },
      "execution_count": null,
      "outputs": []
    },
    {
      "cell_type": "code",
      "source": [
        "## 3. Make a list of each Boolean operator's truth tables (i.e. every possible combination of Boolean values for the operator and what it evaluate ).\n",
        "\n",
        "# Ans:- "
      ],
      "metadata": {
        "id": "m-uJmBnuLMkx"
      },
      "execution_count": null,
      "outputs": []
    },
    {
      "cell_type": "code",
      "source": [
        "## 4. What are the values of the following expressions?"
      ],
      "metadata": {
        "id": "BWocoUEVOpGy"
      },
      "execution_count": null,
      "outputs": []
    },
    {
      "cell_type": "code",
      "source": [
        "#Ans:-\n",
        "\n",
        "(5 > 4) and (3 == 5)"
      ],
      "metadata": {
        "colab": {
          "base_uri": "https://localhost:8080/"
        },
        "id": "XYY5CDgqOueG",
        "outputId": "ddb3a5ed-9ab3-4ad9-ce9d-4c0977e0ad52"
      },
      "execution_count": 3,
      "outputs": [
        {
          "output_type": "execute_result",
          "data": {
            "text/plain": [
              "False"
            ]
          },
          "metadata": {},
          "execution_count": 3
        }
      ]
    },
    {
      "cell_type": "code",
      "source": [
        "# Ans:-\n",
        "\n",
        "not (5 > 4)"
      ],
      "metadata": {
        "colab": {
          "base_uri": "https://localhost:8080/"
        },
        "id": "FQlU_PsfO-FT",
        "outputId": "c55c963a-0453-461f-f958-65adb269baf6"
      },
      "execution_count": 4,
      "outputs": [
        {
          "output_type": "execute_result",
          "data": {
            "text/plain": [
              "False"
            ]
          },
          "metadata": {},
          "execution_count": 4
        }
      ]
    },
    {
      "cell_type": "code",
      "source": [
        "# Ans:-\n",
        "(5 > 4) or (3 == 5)"
      ],
      "metadata": {
        "colab": {
          "base_uri": "https://localhost:8080/"
        },
        "id": "9z7zLrYlPGOu",
        "outputId": "18bcad40-8b06-482a-b447-19d59b50b388"
      },
      "execution_count": 5,
      "outputs": [
        {
          "output_type": "execute_result",
          "data": {
            "text/plain": [
              "True"
            ]
          },
          "metadata": {},
          "execution_count": 5
        }
      ]
    },
    {
      "cell_type": "code",
      "source": [
        "# Ans:-\n",
        "not ((5 > 4) or (3 == 5))"
      ],
      "metadata": {
        "colab": {
          "base_uri": "https://localhost:8080/"
        },
        "id": "XvzBNyEKPNKc",
        "outputId": "e285ba2c-b8e6-45b0-fba7-623ff62c81e6"
      },
      "execution_count": 6,
      "outputs": [
        {
          "output_type": "execute_result",
          "data": {
            "text/plain": [
              "False"
            ]
          },
          "metadata": {},
          "execution_count": 6
        }
      ]
    },
    {
      "cell_type": "code",
      "source": [
        "# Ans:-\n",
        "(True and True) and (True == False)"
      ],
      "metadata": {
        "colab": {
          "base_uri": "https://localhost:8080/"
        },
        "id": "vm1tEHt6PTNA",
        "outputId": "878cbcdf-23e8-4b7b-d21a-174931beae32"
      },
      "execution_count": 7,
      "outputs": [
        {
          "output_type": "execute_result",
          "data": {
            "text/plain": [
              "False"
            ]
          },
          "metadata": {},
          "execution_count": 7
        }
      ]
    },
    {
      "cell_type": "code",
      "source": [
        "# Ans:-\n",
        "(not False) or (not True)"
      ],
      "metadata": {
        "colab": {
          "base_uri": "https://localhost:8080/"
        },
        "id": "gEmh3fs4PaXm",
        "outputId": "1a9d42cd-6972-47ff-b602-ddd9d7b46a25"
      },
      "execution_count": 8,
      "outputs": [
        {
          "output_type": "execute_result",
          "data": {
            "text/plain": [
              "True"
            ]
          },
          "metadata": {},
          "execution_count": 8
        }
      ]
    },
    {
      "cell_type": "code",
      "source": [
        "## What are the six comparison operators?\n",
        "\n",
        "# Ans:- 1) less than (<), 2) greater than (>) , 3) Less than or equal to operator (<=) , 4) Greater Than or Equal To operator (>=),\n",
        "\n",
        "# 5) Equal To operator (==) , 6) Not Equal To operator (!=)"
      ],
      "metadata": {
        "id": "7MC_50hdPgMw"
      },
      "execution_count": null,
      "outputs": []
    },
    {
      "cell_type": "code",
      "source": [
        "## 6. How do you tell the difference between the equal to and assignment operators?Describe a condition and when you would use one.\n",
        "\n",
        "# Ans:- Equal to operator (=) is used to assign any value to a variable whereas assignment operator (==) is used to compare values whether they are equal pr not"
      ],
      "metadata": {
        "id": "9ydrfxVDQhEQ"
      },
      "execution_count": null,
      "outputs": []
    },
    {
      "cell_type": "code",
      "source": [
        "## 7. Identify the three blocks in this code:\n",
        "#spam = 0\n",
        "#if spam == 10:\n",
        "#print('eggs')\n",
        "#if spam > 5:\n",
        "#print('bacon')\n",
        "#else:\n",
        "#print('ham')\n",
        "#print('spam')\n",
        "#print('spam')\n",
        "\n",
        "# Ans:-\n",
        "\n",
        "\n"
      ],
      "metadata": {
        "id": "SYSyf_7-QhTF"
      },
      "execution_count": null,
      "outputs": []
    },
    {
      "cell_type": "code",
      "source": [
        "## 8. Write code that prints Hello if 1 is stored in spam, prints Howdy if 2 is stored in spam, and prints Greetings! if anything else is stored in spam.\n",
        "\n",
        "# Ans:-\n",
        "\n",
        "spam = int(input())\n",
        "\n",
        "if spam == 1:\n",
        "  print('Hello')\n",
        "\n",
        "elif spam == 2:\n",
        "  print('Howdy')\n",
        "\n",
        "else:\n",
        "  print('Greetings!')"
      ],
      "metadata": {
        "colab": {
          "base_uri": "https://localhost:8080/"
        },
        "id": "UVq6CVd3QhVB",
        "outputId": "62063c42-4fee-4745-cdd5-d2f5ba74ec74"
      },
      "execution_count": 18,
      "outputs": [
        {
          "output_type": "stream",
          "name": "stdout",
          "text": [
            "5\n",
            "Greetings!\n"
          ]
        }
      ]
    },
    {
      "cell_type": "code",
      "source": [
        "## 9.If your programme is stuck in an endless loop, what keys you’ll press?\n",
        "\n",
        "# Ans:- CTRL + C"
      ],
      "metadata": {
        "id": "cCTiIEB6QhZQ"
      },
      "execution_count": null,
      "outputs": []
    },
    {
      "cell_type": "code",
      "source": [
        "## 10. How can you tell the difference between break and continue?\n",
        "\n",
        "# The main difference between break and continue statement is that when break keyword is encountered, it will exit the loop. In case of continue keyword, the current iteration that is running will be stopped, and it will proceed with the next iteration."
      ],
      "metadata": {
        "id": "ocROMh4jQiFL"
      },
      "execution_count": null,
      "outputs": []
    },
    {
      "cell_type": "code",
      "source": [
        "## 11. In a for loop, what is the difference between range(10), range(0, 10), and range(0, 10, 1)?\n",
        "\n",
        "# Ans:- range(10) will return values starting from 0 to 9 . range(0,10) will also return values staring from 0 to 9. In both the cases staring point will be zero whether mentioned or not as it is optional.\n",
        "  # range(0,10,1) it indicates starting point as 0 and goes till 9 with step size 1"
      ],
      "metadata": {
        "id": "sqdP3t6FQiGt"
      },
      "execution_count": 29,
      "outputs": []
    },
    {
      "cell_type": "code",
      "source": [
        "## 12. Write a short program that prints the numbers 1 to 10 using a for loop. Then write an equivalent program that prints the numbers 1 to 10 using a while loop.\n",
        "\n",
        "# Ans1:-\n",
        "\n",
        "for i in range(1,11):\n",
        "  print(i)"
      ],
      "metadata": {
        "colab": {
          "base_uri": "https://localhost:8080/"
        },
        "id": "oDcbyNrNbO6h",
        "outputId": "7a48562a-2698-4b6f-9c17-ef1a2b33ba3d"
      },
      "execution_count": 30,
      "outputs": [
        {
          "output_type": "stream",
          "name": "stdout",
          "text": [
            "1\n",
            "2\n",
            "3\n",
            "4\n",
            "5\n",
            "6\n",
            "7\n",
            "8\n",
            "9\n",
            "10\n"
          ]
        }
      ]
    },
    {
      "cell_type": "code",
      "source": [
        "# Ans2:-\n",
        "i = 1\n",
        "\n",
        "while i<11:\n",
        "  print(i)\n",
        "  i=i+1"
      ],
      "metadata": {
        "colab": {
          "base_uri": "https://localhost:8080/"
        },
        "id": "BszxqlQjbq9n",
        "outputId": "85527ce3-1b6c-48f0-fffa-184ca3efe896"
      },
      "execution_count": 34,
      "outputs": [
        {
          "output_type": "stream",
          "name": "stdout",
          "text": [
            "1\n",
            "2\n",
            "3\n",
            "4\n",
            "5\n",
            "6\n",
            "7\n",
            "8\n",
            "9\n",
            "10\n"
          ]
        }
      ]
    },
    {
      "cell_type": "code",
      "source": [
        "## 13. If you had a function named bacon() inside a module named spam, how would you call it after importing spam?\n",
        "\n",
        "# Ans:- from spam import bacon()"
      ],
      "metadata": {
        "id": "GxiUpTSDc1JH"
      },
      "execution_count": null,
      "outputs": []
    }
  ]
}